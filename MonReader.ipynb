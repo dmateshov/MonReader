{
  "cells": [
    {
      "cell_type": "markdown",
      "metadata": {
        "id": "view-in-github",
        "colab_type": "text"
      },
      "source": [
        "<a href=\"https://colab.research.google.com/github/dmateshov/MonReader/blob/main/MonReader.ipynb\" target=\"_parent\"><img src=\"https://colab.research.google.com/assets/colab-badge.svg\" alt=\"Open In Colab\"/></a>"
      ]
    },
    {
      "cell_type": "markdown",
      "metadata": {
        "id": "CwjU18VweFzV"
      },
      "source": [
        "### Background:\n",
        "\n",
        "Our company develops innovative Artificial Intelligence and Computer Vision solutions that revolutionize industries. Machines that can see: We pack our solutions in small yet intelligent devices that can be easily integrated to your existing data flow. Computer vision for everyone: Our devices can recognize faces, estimate age and gender, classify clothing types and colors, identify everyday objects and detect motion. Technical consultancy: We help you identify use cases of artificial intelligence and computer vision in your industry. Artificial intelligence is the technology of today, not the future.\n",
        "\n",
        "MonReader is a new mobile document digitization experience for the blind, for researchers and for everyone else in need for fully automatic, highly fast and high-quality document scanning in bulk. It is composed of a mobile app and all the user needs to do is flip pages and everything is handled by MonReader: it detects page flips from low-resolution camera preview and takes a high-resolution picture of the document, recognizing its corners and crops it accordingly, and it dewarps the cropped document to obtain a bird's eye view, sharpens the contrast between the text and the background and finally recognizes the text with formatting kept intact, being further corrected by MonReader's ML powered redactor.\n",
        "\n",
        "MonReader is a new mobile document digitalization experience for the blind, for researchers and for everyone else in need for fully automatic, highly fast and high-quality document scanning in bulk. It is composed of a mobile app and all the user needs to do is flip pages and everything is handled by MonReader: it detects page flips from low-resolution camera preview and takes a high-resolution picture of the document, recognizing its corners and crops it accordingly, and it dewarps the cropped document to obtain a bird's eye view, sharpens the contrast between the text and the background and finally recognizes the text with formatting kept intact, being further corrected by MonReader's ML powered redactor.\n",
        "\n",
        "### Data Description:\n",
        "\n",
        "We collected page flipping video from smart phones and labelled them as flipping and not flipping.\n",
        "\n",
        "We clipped the videos as short videos and labelled them as flipping or not flipping. The extracted frames are then saved to disk in a sequential order with the following naming structure: VideoID_FrameNumber\n",
        "\n",
        "### Goal:\n",
        "\n",
        "Predict if the page is being flipped using a single image.\n",
        "\n",
        "### Success Metrics:\n",
        "\n",
        "Evaluate model performance based on F1 score, the higher the better.\n",
        "\n",
        "### Bonus:\n",
        "\n",
        "Predict if a given sequence of images contains an action of flipping."
      ]
    },
    {
      "cell_type": "markdown",
      "source": [
        "### Importing Libraries"
      ],
      "metadata": {
        "id": "wtWo931Yh33H"
      }
    },
    {
      "cell_type": "code",
      "execution_count": 1,
      "metadata": {
        "id": "P3RgIbjLdEvo"
      },
      "outputs": [],
      "source": [
        "# Import packages\n",
        "import pandas as pd\n",
        "import numpy as np\n",
        "\n",
        "import matplotlib.pyplot as plt\n",
        "import seaborn as sns\n",
        "\n",
        "# Import tensorflow packages\n",
        "import tensorflow as tf\n",
        "\n",
        "from tensorflow.keras.preprocessing import image_dataset_from_directory\n",
        "from tensorflow.keras import layers\n",
        "from tensorflow.keras.layers import Input, Dense, Flatten, Conv2D, MaxPooling2D, BatchNormalization, ReLU, Activation\n",
        "from tensorflow.keras.models import Model, Sequential\n",
        "from tensorflow.keras.initializers import he_uniform\n",
        "\n",
        "# from medium\n",
        "import keras.backend as K\n",
        "\n",
        "# Import prebuilt models\n",
        "from tensorflow.keras.applications.resnet_v2 import ResNet50V2\n",
        "from tensorflow.keras.applications.inception_v3 import InceptionV3\n",
        "\n",
        "# Set pyplot parameters\n",
        "plt.rcParams['figure.figsize'] = (7.0, 4.0) # set default size of plots\n",
        "plt.rcParams['image.interpolation'] = 'nearest'\n",
        "plt.rcParams['image.cmap'] = 'gray'\n"
      ]
    },
    {
      "cell_type": "markdown",
      "source": [
        "### Loading the data"
      ],
      "metadata": {
        "id": "Qb8lGg71h85q"
      }
    },
    {
      "cell_type": "code",
      "execution_count": 2,
      "metadata": {
        "id": "c2epXGVIdVhM"
      },
      "outputs": [],
      "source": [
        "# Set folders pathes that contain image files \n",
        "train_dir = \"../content/drive/MyDrive/images/training\"\n",
        "test_dir = \"../content/drive/MyDrive/images/testing\""
      ]
    },
    {
      "cell_type": "markdown",
      "source": [
        "To read images and labeling them I used keras's preprocessing tool `image_dataset_from_directory`. It automatically reads all the image files, decodes them and label them depending on folder images were in. Shuffling and image resizing is also performed within function.\n",
        "\n",
        "I know that images have dimension of [1920x1080], and it is necessary to scale it down. Otherwise the model will be too big with too many parameters to train. The new image sizes will be decreased six fold to [320x180]. Also data will be given to model in batches of 32. "
      ],
      "metadata": {
        "id": "WOuwreuwi46p"
      }
    },
    {
      "cell_type": "code",
      "execution_count": 3,
      "metadata": {
        "colab": {
          "base_uri": "https://localhost:8080/"
        },
        "id": "U1G8pq8edWL_",
        "outputId": "1457b49e-73ca-4732-80af-618cbada2f99"
      },
      "outputs": [
        {
          "output_type": "stream",
          "name": "stdout",
          "text": [
            "Found 2392 files belonging to 2 classes.\n",
            "Found 597 files belonging to 2 classes.\n"
          ]
        }
      ],
      "source": [
        "# Set parameters for decoding images\n",
        "img_size = (320,180)\n",
        "batch_size = 32\n",
        "\n",
        "# Create training and testing datasets. Label mode is binary as we have only two options\n",
        "train_list_ds = image_dataset_from_directory(train_dir, label_mode = 'binary', \n",
        "                                             image_size = img_size, batch_size = batch_size)\n",
        "\n",
        "test_list_ds = image_dataset_from_directory(test_dir, label_mode = 'binary', \n",
        "                                            image_size = img_size, batch_size = batch_size)"
      ]
    },
    {
      "cell_type": "markdown",
      "source": [
        "Check if labels are correct:"
      ],
      "metadata": {
        "id": "KL8wFRy55B8s"
      }
    },
    {
      "cell_type": "code",
      "source": [
        "# print class names of dataset\n",
        "print(train_list_ds.class_names)"
      ],
      "metadata": {
        "colab": {
          "base_uri": "https://localhost:8080/"
        },
        "id": "gacSwUDO5BKU",
        "outputId": "dabec8e5-7c44-4724-ccc1-14542afaedba"
      },
      "execution_count": 4,
      "outputs": [
        {
          "output_type": "stream",
          "name": "stdout",
          "text": [
            "['flip', 'notflip']\n"
          ]
        }
      ]
    },
    {
      "cell_type": "markdown",
      "source": [
        "Training and testing sets with their according labels are created. Next step is to create model that can process given images and detect if page is being flipped. \n",
        "\n",
        "\n",
        "### Creating the model\n",
        "\n",
        "This task is quite straight forward, so it does not require complicated models. I decided to build a model that consists of three stages of convolutional and maxpooling layers, followed by three fully connected layers.\n",
        "\n",
        "\n",
        "The following figure describes in detail the architecture of this neural network.\n"
      ],
      "metadata": {
        "id": "3nj0AOOO6dOM"
      }
    },
    {
      "cell_type": "markdown",
      "source": [
        "![Diagram.jpg](data:image/jpeg;base64,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)\n",
        "\n",
        "\n"
      ],
      "metadata": {
        "id": "-CpHp7if3mNg"
      }
    },
    {
      "cell_type": "markdown",
      "source": [
        "`INPUT -> CONV2D -> BATCHNORM -> RELU -> MAXPOOL -> CONV2D -> BATCHNORM -> RELU -> MAXPOOL -> CONV2D -> BATCHNORM -> RELU -> MAXPOOL -> FLATTEN -> DENSE -> DENSE -> DENSE`\n",
        "\n",
        "Details of the model:\n",
        "- The Input layer.\n",
        "- Stage 1:\n",
        " - The 2D Convolution has 16 filters of shape (7,7) and uses a stride of (2,2).\n",
        " - BatchNormaliztion is applied and ReLU activation is applied.\n",
        " - MaxPooling uses a filter of shape(3,3) and a (2,2) stride.\n",
        "\n",
        "- Stage 2:\n",
        " - The 2D Convolution has 64 filters of shape (5,5) and uses a stride of (2,2).\n",
        " - BatchNormaliztion is applied and ReLU activation is applied.\n",
        " - MaxPooling uses a filter of shape(2,2) and a (2,2) stride.\n",
        "\n",
        "- Stage 3:\n",
        " - The 2D Convolution has 256 filters of shape (3,3) and uses a stride of (1,1).\n",
        " - BatchNormaliztion is applied and ReLU activation is applied.\n",
        " - MaxPooling uses a filter of shape(2,2) and a (2,2) stride.\n",
        "\n",
        "- Stage 4:\n",
        " - The Flatten layer to flatten output of Stage 3 convolution layer.\n",
        " - Two Fully Connected (Dense) layers reduce input to 32 parameters using relu activation.\n",
        " - The output - Fully Connected layer reduces to single binary value using sigmoid activation. \n",
        "\n",
        "All of the layers' weights in the model are initialized using *he_uniform*. "
      ],
      "metadata": {
        "id": "w3OKesaq0fJg"
      }
    },
    {
      "cell_type": "code",
      "execution_count": 5,
      "metadata": {
        "id": "codVqvuZd_nW"
      },
      "outputs": [],
      "source": [
        "# Create the model\n",
        "def cnn(input_size = (320, 180, 3)):\n",
        "\n",
        "  inputs = Input(input_size)\n",
        "\n",
        "  # Stage 1 Conv2d and MaxPool - 16\n",
        "  X = Conv2D(16, (7, 7), strides = (2, 2), kernel_initializer = he_uniform())(inputs)\n",
        "  X = BatchNormalization(axis = 3)(X)\n",
        "  # X = ReLU(X)\n",
        "  X = Activation('relu')(X)\n",
        "  X = MaxPooling2D((3, 3), strides=(2, 2))(X)\n",
        "\n",
        "  # stage 2 Conv2d and MaxPool - 64\n",
        "  X = Conv2D(64, (5, 5), strides = (2, 2), kernel_initializer = he_uniform())(X)\n",
        "  X = BatchNormalization(axis = 3)(X)\n",
        "  # X = ReLU(X)\n",
        "  X = Activation('relu')(X)\n",
        "  X = MaxPooling2D((2, 2), strides=(2, 2))(X)\n",
        "\n",
        "  # Stage 3 Conv2d and MaxPool - 64\n",
        "  X = Conv2D(256, (3, 3), strides = (1, 1), kernel_initializer = he_uniform())(X)\n",
        "  X = BatchNormalization(axis = 3)(X)\n",
        "  # X = ReLU(X)\n",
        "  X = Activation('relu')(X)\n",
        "  X = MaxPooling2D((2, 2), strides=(2, 2))(X)\n",
        "\n",
        "  # Stage 4 FC\n",
        "  X = Flatten()(X)\n",
        "  X = Dense(256, activation='relu', kernel_initializer = he_uniform())(X)\n",
        "  X = Dense(32, activation='relu', kernel_initializer = he_uniform())(X)\n",
        "  outputs = Dense(1, activation='sigmoid', kernel_initializer = he_uniform())(X)\n",
        "\n",
        "  model = Model(inputs = inputs, outputs = outputs)\n",
        "  \n",
        "  return model"
      ]
    },
    {
      "cell_type": "markdown",
      "source": [
        "### Creating f1-score metric for keras\n",
        "As success metrics for this project requires using f1 score, I need to write a code for calculation of f1 score in keras. \n",
        "By default, f1 score is not part of keras metrics and hence we can’t just directly write f1 score in metrics while compiling model and get results.\n",
        "The function for f1-score calculation is written using data from keras.backend. \n",
        "I used the article from [medium](https://aakashgoel12.medium.com/how-to-add-user-defined-function-get-f1-score-in-keras-metrics-3013f979ce0d) to write this function."
      ],
      "metadata": {
        "id": "lLXfIGc0gBIf"
      }
    },
    {
      "cell_type": "code",
      "source": [
        "# Function to calculate f1 score. Keras's backend is used as K\n",
        "def f1_score(y_true, y_pred): \n",
        "    tp = K.sum(K.round(K.clip(y_true * y_pred, 0, 1)))\n",
        "    tp_fn = K.sum(K.round(K.clip(y_true, 0, 1)))\n",
        "    tp_fp = K.sum(K.round(K.clip(y_pred, 0, 1)))\n",
        "    precision = tp / (tp_fp + K.epsilon())\n",
        "    recall = tp / (tp_fn + K.epsilon())\n",
        "    f1 = 2*(precision*recall)/(precision+recall+K.epsilon())\n",
        "    return f1"
      ],
      "metadata": {
        "id": "-tbxbMu3c5KF"
      },
      "execution_count": 4,
      "outputs": []
    },
    {
      "cell_type": "markdown",
      "source": [
        "Next step is to set model dimensions and initialize the model. Adam optimizer is used in this model, as well as a binary crossentropy for loss calculation. For metrics of model evaluation accuracy and f1-scores are chosen as per project requirement.  \n",
        "Model summary is also checked to see if all dimensions are correct and all layers are in place."
      ],
      "metadata": {
        "id": "qYIg6xh0lecs"
      }
    },
    {
      "cell_type": "code",
      "execution_count": 7,
      "metadata": {
        "colab": {
          "base_uri": "https://localhost:8080/"
        },
        "id": "wwFLL8TzeBFK",
        "outputId": "095e2be1-0faa-47f7-ef13-ff4332169682"
      },
      "outputs": [
        {
          "output_type": "stream",
          "name": "stdout",
          "text": [
            "Model: \"model\"\n",
            "_________________________________________________________________\n",
            " Layer (type)                Output Shape              Param #   \n",
            "=================================================================\n",
            " input_1 (InputLayer)        [(None, 320, 180, 3)]     0         \n",
            "                                                                 \n",
            " conv2d (Conv2D)             (None, 157, 87, 16)       2368      \n",
            "                                                                 \n",
            " batch_normalization (BatchN  (None, 157, 87, 16)      64        \n",
            " ormalization)                                                   \n",
            "                                                                 \n",
            " activation (Activation)     (None, 157, 87, 16)       0         \n",
            "                                                                 \n",
            " max_pooling2d (MaxPooling2D  (None, 78, 43, 16)       0         \n",
            " )                                                               \n",
            "                                                                 \n",
            " conv2d_1 (Conv2D)           (None, 37, 20, 64)        25664     \n",
            "                                                                 \n",
            " batch_normalization_1 (Batc  (None, 37, 20, 64)       256       \n",
            " hNormalization)                                                 \n",
            "                                                                 \n",
            " activation_1 (Activation)   (None, 37, 20, 64)        0         \n",
            "                                                                 \n",
            " max_pooling2d_1 (MaxPooling  (None, 18, 10, 64)       0         \n",
            " 2D)                                                             \n",
            "                                                                 \n",
            " conv2d_2 (Conv2D)           (None, 16, 8, 256)        147712    \n",
            "                                                                 \n",
            " batch_normalization_2 (Batc  (None, 16, 8, 256)       1024      \n",
            " hNormalization)                                                 \n",
            "                                                                 \n",
            " activation_2 (Activation)   (None, 16, 8, 256)        0         \n",
            "                                                                 \n",
            " max_pooling2d_2 (MaxPooling  (None, 8, 4, 256)        0         \n",
            " 2D)                                                             \n",
            "                                                                 \n",
            " flatten (Flatten)           (None, 8192)              0         \n",
            "                                                                 \n",
            " dense (Dense)               (None, 256)               2097408   \n",
            "                                                                 \n",
            " dense_1 (Dense)             (None, 32)                8224      \n",
            "                                                                 \n",
            " dense_2 (Dense)             (None, 1)                 33        \n",
            "                                                                 \n",
            "=================================================================\n",
            "Total params: 2,282,753\n",
            "Trainable params: 2,282,081\n",
            "Non-trainable params: 672\n",
            "_________________________________________________________________\n",
            "None\n"
          ]
        }
      ],
      "source": [
        "# Initialize the model\n",
        "model = cnn((320, 180, 3))\n",
        "model.compile(optimizer='adam', loss='binary_crossentropy', metrics=['accuracy', f1_score])\n",
        "\n",
        "# Print model summary\n",
        "print(model.summary())"
      ]
    },
    {
      "cell_type": "markdown",
      "source": [
        "Model summary indicates that all the parameters were created as planned and there are 2.28 million trainable parameters in the model. Next step is to train the model to training set for ten epochs."
      ],
      "metadata": {
        "id": "hiuFoligs0kI"
      }
    },
    {
      "cell_type": "code",
      "execution_count": 8,
      "metadata": {
        "colab": {
          "base_uri": "https://localhost:8080/"
        },
        "id": "vW6tcsYWudv1",
        "outputId": "1ad22ffd-e8a8-4ce3-e3f7-f63fd7e8125d"
      },
      "outputs": [
        {
          "output_type": "stream",
          "name": "stdout",
          "text": [
            "Epoch 1/10\n",
            "75/75 [==============================] - 226s 2s/step - loss: 0.4798 - accuracy: 0.8528 - f1_score: 0.8410\n",
            "Epoch 2/10\n",
            "75/75 [==============================] - 19s 224ms/step - loss: 0.1001 - accuracy: 0.9636 - f1_score: 0.9631\n",
            "Epoch 3/10\n",
            "75/75 [==============================] - 19s 226ms/step - loss: 0.0409 - accuracy: 0.9883 - f1_score: 0.9878\n",
            "Epoch 4/10\n",
            "75/75 [==============================] - 19s 223ms/step - loss: 0.0424 - accuracy: 0.9879 - f1_score: 0.9882\n",
            "Epoch 5/10\n",
            "75/75 [==============================] - 19s 224ms/step - loss: 0.0221 - accuracy: 0.9933 - f1_score: 0.9929\n",
            "Epoch 6/10\n",
            "75/75 [==============================] - 19s 224ms/step - loss: 0.0716 - accuracy: 0.9707 - f1_score: 0.9704\n",
            "Epoch 7/10\n",
            "75/75 [==============================] - 19s 224ms/step - loss: 0.0089 - accuracy: 0.9975 - f1_score: 0.9974\n",
            "Epoch 8/10\n",
            "75/75 [==============================] - 19s 223ms/step - loss: 5.1948e-04 - accuracy: 1.0000 - f1_score: 1.0000\n",
            "Epoch 9/10\n",
            "75/75 [==============================] - 19s 225ms/step - loss: 8.7253e-05 - accuracy: 1.0000 - f1_score: 1.0000\n",
            "Epoch 10/10\n",
            "75/75 [==============================] - 19s 224ms/step - loss: 1.6781e-04 - accuracy: 1.0000 - f1_score: 1.0000\n"
          ]
        }
      ],
      "source": [
        "history = model.fit(train_list_ds, epochs = 10)"
      ]
    },
    {
      "cell_type": "code",
      "source": [
        "model.evaluate(test_list_ds)"
      ],
      "metadata": {
        "colab": {
          "base_uri": "https://localhost:8080/"
        },
        "id": "KRxHNKr6k7CV",
        "outputId": "40345cd0-0b48-4f61-9a37-5e29db54538a"
      },
      "execution_count": 9,
      "outputs": [
        {
          "output_type": "stream",
          "name": "stdout",
          "text": [
            "19/19 [==============================] - 67s 2s/step - loss: 0.0047 - accuracy: 0.9983 - f1_score: 0.9986\n"
          ]
        },
        {
          "output_type": "execute_result",
          "data": {
            "text/plain": [
              "[0.004714563954621553, 0.9983249306678772, 0.9985775351524353]"
            ]
          },
          "metadata": {},
          "execution_count": 9
        }
      ]
    },
    {
      "cell_type": "markdown",
      "source": [
        "Implementing three convolutional layers resulted in high accuracy and f1-score performance on test set. Accuracy the model could reach on 10 epochs is 0.9983 while f1-score is 0.9986. I believe these scores are very high and no more further tuning is required.\n",
        "\n",
        "### Prebuilt models ResNet\n",
        "Next step is to test how existing classic networks will perform on this task. I chose ResNet50 for this project as I have experience with this network. It has about 25 million parameters and top-1 accuracy of the model is ~ 75%. The ResNet model in this project will be used by transfer learning, using the trained weights of \"imagenet\" database.\n",
        "\n",
        "Residual neural networks utilize skip connections, or shortcuts to jump over some layers. Typical ResNet models are implemented with double- or triple- layer skips that contain nonlinearities (ReLU) and batch normalization in between. There are two main reasons to add skip connections: to avoid the problem of vanishing gradients, or to mitigate the Degradation (accuracy saturation) problem; where adding more layers to a suitably deep model leads to higher training error. During training, the weights adapt to mute the upstream layer, and amplify the previously-skipped layer. Skipping effectively simplifies the network, using fewer layers in the initial training stages. This speeds learning by reducing the impact of vanishing gradients, as there are fewer layers to propagate through. (https://en.wikipedia.org/wiki/Residual_neural_network)\n",
        "\n",
        "The following figure describes in detail the architecture of this neural network. \"ID BLOCK\" in the diagram stands for \"Identity block,\" and \"ID BLOCK x3\" means you should stack 3 identity blocks together."
      ],
      "metadata": {
        "id": "lLzxQXBOze3Y"
      }
    },
    {
      "cell_type": "markdown",
      "source": [
        "![resnet_kiank.png](data:image/png;base64,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)"
      ],
      "metadata": {
        "id": "vRiAaoZ3QnA3"
      }
    },
    {
      "cell_type": "markdown",
      "source": [
        "For this part of the project sequential model is used, where pretrained ResNet50 model and dense layers were put in sequence. In pretrained model the input shape is defined and `include_top` pareameter is set to *False* as  the shape of input and putput layers of mode are changed. It is also necessary to set trainable parameter of all layers of pretrained ResNet model to False. This way weights are not changed during the training process. This model is already trained and only final dense layers are fitted.\n",
        "\n",
        "Pooling after the main model is set to average, as plotted in the graph above. Afterwards the output of the model is flattened and data then flows into fully connected layer consisting of 512 units. The final output layer is binary output with 'sigmoid' activation function."
      ],
      "metadata": {
        "id": "5Q9dXOZ7RWPv"
      }
    },
    {
      "cell_type": "code",
      "source": [
        "# Create sequential model\n",
        "resnet_model = Sequential()\n",
        "\n",
        "# Get prebuilt ResNet model with 'imagenet' weights\n",
        "pretrained_model = ResNet50V2(include_top = False, weights = 'imagenet', input_shape = (320, 180, 3), pooling = 'avg')\n",
        "\n",
        "# Set layers of ResNet to 'untrainable' mode\n",
        "for layer in pretrained_model.layers:\n",
        "  layer.trainable = False\n",
        "\n",
        "# Add pretrained part to my model\n",
        "resnet_model.add(pretrained_model)\n",
        "\n",
        "# Add flatten and fully connected layers\n",
        "resnet_model.add(Flatten())\n",
        "resnet_model.add(Dense(512, activation='relu'))\n",
        "resnet_model.add(Dense(1, activation='sigmoid'))"
      ],
      "metadata": {
        "id": "IyP33rZD1ZTH",
        "colab": {
          "base_uri": "https://localhost:8080/"
        },
        "outputId": "01012717-3e0a-44d1-99ca-409302b3e9ab"
      },
      "execution_count": 13,
      "outputs": [
        {
          "output_type": "stream",
          "name": "stdout",
          "text": [
            "Downloading data from https://storage.googleapis.com/tensorflow/keras-applications/resnet/resnet50v2_weights_tf_dim_ordering_tf_kernels_notop.h5\n",
            "94674944/94668760 [==============================] - 0s 0us/step\n",
            "94683136/94668760 [==============================] - 0s 0us/step\n"
          ]
        }
      ]
    },
    {
      "cell_type": "code",
      "source": [
        "# Print summary of the model\n",
        "resnet_model.summary()"
      ],
      "metadata": {
        "colab": {
          "base_uri": "https://localhost:8080/"
        },
        "id": "_JaPgzWh1ZWA",
        "outputId": "282ae3d8-ac8a-4831-a28b-1a0fdbac49db"
      },
      "execution_count": 14,
      "outputs": [
        {
          "output_type": "stream",
          "name": "stdout",
          "text": [
            "Model: \"sequential\"\n",
            "_________________________________________________________________\n",
            " Layer (type)                Output Shape              Param #   \n",
            "=================================================================\n",
            " resnet50v2 (Functional)     (None, 2048)              23564800  \n",
            "                                                                 \n",
            " flatten_1 (Flatten)         (None, 2048)              0         \n",
            "                                                                 \n",
            " dense_3 (Dense)             (None, 512)               1049088   \n",
            "                                                                 \n",
            " dense_4 (Dense)             (None, 1)                 513       \n",
            "                                                                 \n",
            "=================================================================\n",
            "Total params: 24,614,401\n",
            "Trainable params: 1,049,601\n",
            "Non-trainable params: 23,564,800\n",
            "_________________________________________________________________\n"
          ]
        }
      ]
    },
    {
      "cell_type": "markdown",
      "source": [
        "There are ~1 million trainibel parameters in this model, while 24.6 million parameters are non-trainable. These non-trainable parameters are the ones that came with prebuilt ResNet model and are trained on \"Imagenet\" database. Adam optimizer is used in this model, as well as a binary crossentropy for loss calculation. For metrics of model evaluation accuracy and f1-scores are chosen as per project requirement."
      ],
      "metadata": {
        "id": "rw6qmIGuevsF"
      }
    },
    {
      "cell_type": "code",
      "source": [
        "# Compile the model\n",
        "resnet_model.compile(loss='binary_crossentropy', optimizer='adam', metrics=['accuracy', f1_score])"
      ],
      "metadata": {
        "id": "9WFhd58x19sl"
      },
      "execution_count": 15,
      "outputs": []
    },
    {
      "cell_type": "code",
      "source": [
        "# Fit the model to training set\n",
        "history_resnet = resnet_model.fit(train_list_ds, epochs = 30)"
      ],
      "metadata": {
        "colab": {
          "base_uri": "https://localhost:8080/"
        },
        "id": "pz1gAr4o192m",
        "outputId": "e78d4f8e-6cb9-4b05-a391-bba0f269acf5"
      },
      "execution_count": 16,
      "outputs": [
        {
          "output_type": "stream",
          "name": "stdout",
          "text": [
            "Epoch 1/30\n",
            "75/75 [==============================] - 26s 257ms/step - loss: 31.1171 - accuracy: 0.5468 - f1_score: 0.4559\n",
            "Epoch 2/30\n",
            "75/75 [==============================] - 20s 240ms/step - loss: 4.3475 - accuracy: 0.6522 - f1_score: 0.6064\n",
            "Epoch 3/30\n",
            "75/75 [==============================] - 20s 239ms/step - loss: 5.9142 - accuracy: 0.6559 - f1_score: 0.5992\n",
            "Epoch 4/30\n",
            "75/75 [==============================] - 20s 239ms/step - loss: 4.4265 - accuracy: 0.6731 - f1_score: 0.6264\n",
            "Epoch 5/30\n",
            "75/75 [==============================] - 20s 238ms/step - loss: 1.8913 - accuracy: 0.7742 - f1_score: 0.7574\n",
            "Epoch 6/30\n",
            "75/75 [==============================] - 20s 241ms/step - loss: 2.5400 - accuracy: 0.7450 - f1_score: 0.7194\n",
            "Epoch 7/30\n",
            "75/75 [==============================] - 20s 243ms/step - loss: 3.2832 - accuracy: 0.7324 - f1_score: 0.6962\n",
            "Epoch 8/30\n",
            "75/75 [==============================] - 20s 242ms/step - loss: 2.4486 - accuracy: 0.7684 - f1_score: 0.7233\n",
            "Epoch 9/30\n",
            "75/75 [==============================] - 20s 243ms/step - loss: 2.5551 - accuracy: 0.7513 - f1_score: 0.7259\n",
            "Epoch 10/30\n",
            "75/75 [==============================] - 20s 244ms/step - loss: 1.8623 - accuracy: 0.8031 - f1_score: 0.7807\n",
            "Epoch 11/30\n",
            "75/75 [==============================] - 20s 240ms/step - loss: 1.3309 - accuracy: 0.8244 - f1_score: 0.8090\n",
            "Epoch 12/30\n",
            "75/75 [==============================] - 20s 243ms/step - loss: 1.5456 - accuracy: 0.8123 - f1_score: 0.7856\n",
            "Epoch 13/30\n",
            "75/75 [==============================] - 21s 248ms/step - loss: 0.8255 - accuracy: 0.8629 - f1_score: 0.8536\n",
            "Epoch 14/30\n",
            "75/75 [==============================] - 20s 243ms/step - loss: 0.7692 - accuracy: 0.8708 - f1_score: 0.8621\n",
            "Epoch 15/30\n",
            "75/75 [==============================] - 20s 242ms/step - loss: 2.1295 - accuracy: 0.7897 - f1_score: 0.7667\n",
            "Epoch 16/30\n",
            "75/75 [==============================] - 20s 244ms/step - loss: 3.6250 - accuracy: 0.7203 - f1_score: 0.6696\n",
            "Epoch 17/30\n",
            "75/75 [==============================] - 20s 241ms/step - loss: 0.9406 - accuracy: 0.8658 - f1_score: 0.8608\n",
            "Epoch 18/30\n",
            "75/75 [==============================] - 20s 242ms/step - loss: 1.2124 - accuracy: 0.8353 - f1_score: 0.8261\n",
            "Epoch 19/30\n",
            "75/75 [==============================] - 21s 248ms/step - loss: 1.3817 - accuracy: 0.8273 - f1_score: 0.8060\n",
            "Epoch 20/30\n",
            "75/75 [==============================] - 20s 244ms/step - loss: 2.2449 - accuracy: 0.7876 - f1_score: 0.7611\n",
            "Epoch 21/30\n",
            "75/75 [==============================] - 20s 244ms/step - loss: 1.1004 - accuracy: 0.8558 - f1_score: 0.8376\n",
            "Epoch 22/30\n",
            "75/75 [==============================] - 20s 243ms/step - loss: 0.3903 - accuracy: 0.9206 - f1_score: 0.9181\n",
            "Epoch 23/30\n",
            "75/75 [==============================] - 20s 243ms/step - loss: 0.3516 - accuracy: 0.9202 - f1_score: 0.9193\n",
            "Epoch 24/30\n",
            "75/75 [==============================] - 20s 243ms/step - loss: 1.2805 - accuracy: 0.8395 - f1_score: 0.8255\n",
            "Epoch 25/30\n",
            "75/75 [==============================] - 20s 242ms/step - loss: 0.2511 - accuracy: 0.9394 - f1_score: 0.9392\n",
            "Epoch 26/30\n",
            "75/75 [==============================] - 20s 243ms/step - loss: 0.3889 - accuracy: 0.9080 - f1_score: 0.9021\n",
            "Epoch 27/30\n",
            "75/75 [==============================] - 20s 242ms/step - loss: 0.8069 - accuracy: 0.8637 - f1_score: 0.8473\n",
            "Epoch 28/30\n",
            "75/75 [==============================] - 20s 242ms/step - loss: 1.1205 - accuracy: 0.8491 - f1_score: 0.8336\n",
            "Epoch 29/30\n",
            "75/75 [==============================] - 20s 243ms/step - loss: 0.4377 - accuracy: 0.9047 - f1_score: 0.9021\n",
            "Epoch 30/30\n",
            "75/75 [==============================] - 20s 242ms/step - loss: 0.7650 - accuracy: 0.8579 - f1_score: 0.8410\n"
          ]
        }
      ]
    },
    {
      "cell_type": "code",
      "source": [
        "# Test the trained model on test set\n",
        "resnet_model.evaluate(test_list_ds)"
      ],
      "metadata": {
        "colab": {
          "base_uri": "https://localhost:8080/"
        },
        "id": "VYY29SCE2zkB",
        "outputId": "bee5da8e-1240-46e5-bf72-ee60fd61da3d"
      },
      "execution_count": 17,
      "outputs": [
        {
          "output_type": "stream",
          "name": "stdout",
          "text": [
            "19/19 [==============================] - 8s 258ms/step - loss: 0.3120 - accuracy: 0.9430 - f1_score: 0.9464\n"
          ]
        },
        {
          "output_type": "execute_result",
          "data": {
            "text/plain": [
              "[0.3120177388191223, 0.9430485963821411, 0.9464229941368103]"
            ]
          },
          "metadata": {},
          "execution_count": 17
        }
      ]
    },
    {
      "cell_type": "markdown",
      "source": [
        "ResNet model also has decent results on testing set. It returned an accuracy of 0.9430 and f1-score of 0.9464. It performed lower in f1-score compared to custom model. It might be because the ResNet model was initially trained on \"ImageNet\" database and is not the best for our purpose. However it performed well, even though it required training for 30 epochs."
      ],
      "metadata": {
        "id": "S8WoJej0QScI"
      }
    },
    {
      "cell_type": "markdown",
      "source": [
        "### Prebuilt models - Inception\n",
        "\n",
        "In this part of the project the InceptionV3 prebuilt model is tested on our dataset. Inception is similar to ResNet in terms of number of parameters and performance of the model. It has ~ 24 million parameters and top 1 accuracy is ~78%.\n",
        "\n",
        "InceptionV3 is a convolutional neural network for assisting in image analysis and object detection, and got its start as a module for Googlenet. It is the third edition of Google's Inception Convolutional Neural Network, originally introduced during the ImageNet Recognition Challenge. The design of Inceptionv3 was intended to allow deeper networks while also keeping the number of parameters from growing too large: it has \"under 25 million parameters\", compared against 60 million for AlexNet. The original name (Inception) was codenamed this way after a popular \"we need to go deeper\" internet meme went viral, quoting a phrase from Inception film of Christopher Nolan. (https://en.wikipedia.org/wiki/Inceptionv3)\n",
        "\n"
      ],
      "metadata": {
        "id": "rM-UUkBukfb2"
      }
    },
    {
      "cell_type": "code",
      "source": [
        "# Create sequential model\n",
        "inception_model = Sequential()\n",
        "\n",
        "# Get prebuilt Inception model with 'imagenet' trained weights\n",
        "pretrained_model = InceptionV3(include_top = False, weights = 'imagenet', input_shape = (320, 180, 3), pooling = 'avg')\n",
        "\n",
        "# Set layers of Inception model to 'untrainable' mode\n",
        "for layer in pretrained_model.layers:\n",
        "  layer.trainable = False\n",
        "\n",
        "\n",
        "# Add pretrained part to my model\n",
        "inception_model.add(pretrained_model)\n",
        "\n",
        "# Add flatten and fully connected layers\n",
        "inception_model.add(Flatten())\n",
        "inception_model.add(Dense(512, activation='relu'))\n",
        "inception_model.add(Dense(1, activation='sigmoid'))"
      ],
      "metadata": {
        "id": "v9zGPdQIlvrH"
      },
      "execution_count": 5,
      "outputs": []
    },
    {
      "cell_type": "code",
      "source": [
        "# Print summary of the model\n",
        "inception_model.summary()"
      ],
      "metadata": {
        "colab": {
          "base_uri": "https://localhost:8080/"
        },
        "id": "HNy_O1uEs3PV",
        "outputId": "3d4dbf97-4b5a-470a-a539-cc1f025b81f3"
      },
      "execution_count": 6,
      "outputs": [
        {
          "output_type": "stream",
          "name": "stdout",
          "text": [
            "Model: \"sequential\"\n",
            "_________________________________________________________________\n",
            " Layer (type)                Output Shape              Param #   \n",
            "=================================================================\n",
            " inception_v3 (Functional)   (None, 2048)              21802784  \n",
            "                                                                 \n",
            " flatten (Flatten)           (None, 2048)              0         \n",
            "                                                                 \n",
            " dense (Dense)               (None, 512)               1049088   \n",
            "                                                                 \n",
            " dense_1 (Dense)             (None, 1)                 513       \n",
            "                                                                 \n",
            "=================================================================\n",
            "Total params: 22,852,385\n",
            "Trainable params: 1,049,601\n",
            "Non-trainable params: 21,802,784\n",
            "_________________________________________________________________\n"
          ]
        }
      ]
    },
    {
      "cell_type": "markdown",
      "source": [
        "There are ~1 million trainibel parameters in this model, while 21.8 million parameters are non-trainable. These non-trainable parameters are the ones that came with prebuilt Inception model and are trained on \"Imagenet\" database. Adam optimizer is used in this model, as well as a binary crossentropy for loss calculation. For metrics of model evaluation accuracy and f1-scores are chosen as per project requirement."
      ],
      "metadata": {
        "id": "1pUodWdyRoTE"
      }
    },
    {
      "cell_type": "code",
      "source": [
        "# Compile the model\n",
        "inception_model.compile(loss='binary_crossentropy', optimizer='adam', metrics=['accuracy', f1_score])"
      ],
      "metadata": {
        "id": "ZN6RDexbxHwI"
      },
      "execution_count": 7,
      "outputs": []
    },
    {
      "cell_type": "code",
      "source": [
        "# Fit the model to training set\n",
        "history_inception = inception_model.fit(train_list_ds, epochs = 30)"
      ],
      "metadata": {
        "colab": {
          "base_uri": "https://localhost:8080/"
        },
        "id": "fHIU9KqWshaL",
        "outputId": "a6cb56d0-d101-4245-f1ae-8e8d02408a27"
      },
      "execution_count": 8,
      "outputs": [
        {
          "output_type": "stream",
          "name": "stdout",
          "text": [
            "Epoch 1/30\n",
            "75/75 [==============================] - 36s 314ms/step - loss: 12.0492 - accuracy: 0.6267 - f1_score: 0.5692\n",
            "Epoch 2/30\n",
            "75/75 [==============================] - 24s 291ms/step - loss: 0.8197 - accuracy: 0.7625 - f1_score: 0.7487\n",
            "Epoch 3/30\n",
            "75/75 [==============================] - 24s 293ms/step - loss: 0.5280 - accuracy: 0.8165 - f1_score: 0.8099\n",
            "Epoch 4/30\n",
            "75/75 [==============================] - 24s 292ms/step - loss: 0.5550 - accuracy: 0.8094 - f1_score: 0.7943\n",
            "Epoch 5/30\n",
            "75/75 [==============================] - 24s 293ms/step - loss: 0.8638 - accuracy: 0.7834 - f1_score: 0.7562\n",
            "Epoch 6/30\n",
            "75/75 [==============================] - 24s 290ms/step - loss: 0.3440 - accuracy: 0.8821 - f1_score: 0.8827\n",
            "Epoch 7/30\n",
            "75/75 [==============================] - 24s 289ms/step - loss: 0.4973 - accuracy: 0.8374 - f1_score: 0.8157\n",
            "Epoch 8/30\n",
            "75/75 [==============================] - 24s 294ms/step - loss: 0.3472 - accuracy: 0.8788 - f1_score: 0.8794\n",
            "Epoch 9/30\n",
            "75/75 [==============================] - 24s 284ms/step - loss: 0.2073 - accuracy: 0.9273 - f1_score: 0.9280\n",
            "Epoch 10/30\n",
            "75/75 [==============================] - 23s 281ms/step - loss: 0.2257 - accuracy: 0.9235 - f1_score: 0.9169\n",
            "Epoch 11/30\n",
            "75/75 [==============================] - 24s 290ms/step - loss: 0.2521 - accuracy: 0.9018 - f1_score: 0.8953\n",
            "Epoch 12/30\n",
            "75/75 [==============================] - 24s 283ms/step - loss: 0.6093 - accuracy: 0.8382 - f1_score: 0.8247\n",
            "Epoch 13/30\n",
            "75/75 [==============================] - 24s 284ms/step - loss: 0.2269 - accuracy: 0.9202 - f1_score: 0.9212\n",
            "Epoch 14/30\n",
            "75/75 [==============================] - 24s 287ms/step - loss: 0.1587 - accuracy: 0.9394 - f1_score: 0.9385\n",
            "Epoch 15/30\n",
            "75/75 [==============================] - 24s 286ms/step - loss: 0.4085 - accuracy: 0.8691 - f1_score: 0.8622\n",
            "Epoch 16/30\n",
            "75/75 [==============================] - 24s 292ms/step - loss: 0.1386 - accuracy: 0.9536 - f1_score: 0.9521\n",
            "Epoch 17/30\n",
            "75/75 [==============================] - 24s 292ms/step - loss: 0.1840 - accuracy: 0.9339 - f1_score: 0.9315\n",
            "Epoch 18/30\n",
            "75/75 [==============================] - 24s 291ms/step - loss: 0.2438 - accuracy: 0.9160 - f1_score: 0.9109\n",
            "Epoch 19/30\n",
            "75/75 [==============================] - 24s 293ms/step - loss: 0.1456 - accuracy: 0.9440 - f1_score: 0.9415\n",
            "Epoch 20/30\n",
            "75/75 [==============================] - 24s 289ms/step - loss: 0.4629 - accuracy: 0.8779 - f1_score: 0.8613\n",
            "Epoch 21/30\n",
            "75/75 [==============================] - 24s 292ms/step - loss: 0.2062 - accuracy: 0.9281 - f1_score: 0.9259\n",
            "Epoch 22/30\n",
            "75/75 [==============================] - 24s 288ms/step - loss: 0.1024 - accuracy: 0.9620 - f1_score: 0.9624\n",
            "Epoch 23/30\n",
            "75/75 [==============================] - 24s 292ms/step - loss: 0.1171 - accuracy: 0.9594 - f1_score: 0.9579\n",
            "Epoch 24/30\n",
            "75/75 [==============================] - 24s 285ms/step - loss: 0.2132 - accuracy: 0.9339 - f1_score: 0.9282\n",
            "Epoch 25/30\n",
            "75/75 [==============================] - 24s 286ms/step - loss: 0.0664 - accuracy: 0.9778 - f1_score: 0.9788\n",
            "Epoch 26/30\n",
            "75/75 [==============================] - 24s 288ms/step - loss: 0.1341 - accuracy: 0.9553 - f1_score: 0.9525\n",
            "Epoch 27/30\n",
            "75/75 [==============================] - 24s 293ms/step - loss: 0.1528 - accuracy: 0.9427 - f1_score: 0.9414\n",
            "Epoch 28/30\n",
            "75/75 [==============================] - 24s 292ms/step - loss: 0.1013 - accuracy: 0.9628 - f1_score: 0.9631\n",
            "Epoch 29/30\n",
            "75/75 [==============================] - 24s 290ms/step - loss: 0.2866 - accuracy: 0.9105 - f1_score: 0.9053\n",
            "Epoch 30/30\n",
            "75/75 [==============================] - 24s 290ms/step - loss: 0.0759 - accuracy: 0.9712 - f1_score: 0.9700\n"
          ]
        }
      ]
    },
    {
      "cell_type": "code",
      "source": [
        "# Test the trained model on test set\n",
        "inception_model.evaluate(test_list_ds)"
      ],
      "metadata": {
        "colab": {
          "base_uri": "https://localhost:8080/"
        },
        "id": "zXp_IqJOpaPK",
        "outputId": "9a714bb3-095e-4456-8792-d8b21f8e4ba6"
      },
      "execution_count": 9,
      "outputs": [
        {
          "output_type": "stream",
          "name": "stdout",
          "text": [
            "19/19 [==============================] - 10s 288ms/step - loss: 0.0784 - accuracy: 0.9698 - f1_score: 0.9686\n"
          ]
        },
        {
          "output_type": "execute_result",
          "data": {
            "text/plain": [
              "[0.07835377752780914, 0.9698492288589478, 0.9685676097869873]"
            ]
          },
          "metadata": {},
          "execution_count": 9
        }
      ]
    },
    {
      "cell_type": "markdown",
      "source": [
        "Inception model also has reasonable results on testing set. It returned an accuracy of 0.9698 and f1-score of 0.9486. It performed lower in f1-score compared to custom model, but slightly better than ResNet model. It might be because the Inception model was initially trained on \"ImageNet\" database and is not the best for our case. However it performed well, even though it required training for 30 epochs."
      ],
      "metadata": {
        "id": "60HuHz6nSk59"
      }
    },
    {
      "cell_type": "markdown",
      "source": [
        "### Conclusion\n",
        "\n",
        "In this project I created custom model, and trained it to the dataset of \"flipping\" and \"not-flipping\" images. I created f1-score calculation metric for keras and created two models based on pretrained models to compare to our values.\n",
        "\n",
        "In my case using pretrained model appeared to be not the best idea. It can be due to the fact that pretrained models are traied on ImageNet database. [ImageNet](https://image-net.org/) is a huge database organized according to the WordNet hierarchy, in which each node of the hierarchy is depicted by hundreds and thousands of images. \n",
        "\n",
        "However this project contains mainly images with a paper with text on it and hands. So, the project does not need a model that is capable to identify features of all the different of objects. It was proved in this project, that good classic models can perform worse than custom small model trained for purpose. The only way to improve their performance is to train their weights on my data as well. But it would require lots of computational time as model is quite big (over 20 million parameters). \n",
        "\n",
        "Objectives of the project were reached as I created the model that can identify if the image is in the process of the page flip or not. Results of performance of models are given in table below:"
      ],
      "metadata": {
        "id": "Ipx79-ivyIQL"
      }
    },
    {
      "cell_type": "markdown",
      "source": [
        "<tr><th>Model Name</th><th>Accuracy</th><th>F1 score</th></tr>\n",
        "<tr><td>Custom model</td><td>0.9983</td><td>0.9986</td></tr>\n",
        "<tr><td>ResNet model</td><td>0.9430</td><td>0.9464</td></tr>\n",
        "<tr><td>Inception model</td><td>0.9698</td><td>0.9686</td></tr>"
      ],
      "metadata": {
        "id": "3weJlT7itAXX"
      }
    },
    {
      "cell_type": "code",
      "source": [
        ""
      ],
      "metadata": {
        "id": "pW8ZxNCytaqG"
      },
      "execution_count": null,
      "outputs": []
    }
  ],
  "metadata": {
    "accelerator": "GPU",
    "colab": {
      "collapsed_sections": [],
      "name": "MonReader_v3.ipynb",
      "provenance": [],
      "mount_file_id": "1iuuys9cj8w_cfg8FVRei94PZUP9Ae0wt",
      "authorship_tag": "ABX9TyMda2sCqx9aNVP2rjSJUa8T",
      "include_colab_link": true
    },
    "kernelspec": {
      "display_name": "Python 3",
      "name": "python3"
    },
    "language_info": {
      "name": "python"
    }
  },
  "nbformat": 4,
  "nbformat_minor": 0
}